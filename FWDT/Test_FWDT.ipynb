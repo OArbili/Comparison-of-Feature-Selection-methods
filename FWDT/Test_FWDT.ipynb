{
 "cells": [
  {
   "cell_type": "code",
   "execution_count": 1,
   "id": "5f5e6344-4275-46ae-bbf9-8aa767ae667e",
   "metadata": {},
   "outputs": [],
   "source": [
    "import pandas as pd\n",
    "import numpy as np\n",
    "from FWDT import FWDT\n",
    "# !pip install skfeature-chappers"
   ]
  },
  {
   "cell_type": "code",
   "execution_count": 2,
   "id": "e3dfd12e-fb71-4915-abb3-1fdfdd3a77c8",
   "metadata": {},
   "outputs": [],
   "source": [
    "cur_f = FWDT()"
   ]
  },
  {
   "cell_type": "code",
   "execution_count": 3,
   "id": "1b9c61a4-41f6-46a6-96bc-f14aecb7fad8",
   "metadata": {},
   "outputs": [],
   "source": [
    "from sklearn.datasets import load_iris\n",
    "data = load_iris()"
   ]
  },
  {
   "cell_type": "code",
   "execution_count": 3,
   "id": "d330fd36-51b1-47a2-b6c7-5ac4c5ee891b",
   "metadata": {},
   "outputs": [],
   "source": [
    "data_Breast = pd.read_csv('/sise/liorrk-group/OrDanOfir/data/microarrays/data/scikit_feature_datasets/Yale.csv')"
   ]
  },
  {
   "cell_type": "code",
   "execution_count": 4,
   "id": "26ac5cfc-66a0-4d9a-a4d3-a20e09b55c18",
   "metadata": {},
   "outputs": [],
   "source": [
    "data_df = data_Breast.drop('target',axis=1)\n",
    "target_df = data_Breast['target']"
   ]
  },
  {
   "cell_type": "code",
   "execution_count": 5,
   "id": "bb6fd955-b3d8-49bc-b845-5e391d045f48",
   "metadata": {},
   "outputs": [],
   "source": [
    "# pre process \n",
    "data_df = data_df.fillna(0)"
   ]
  },
  {
   "cell_type": "code",
   "execution_count": 6,
   "id": "e80e48ce-25ab-44ff-a759-f2f6b8a71dd5",
   "metadata": {},
   "outputs": [],
   "source": [
    "ret_arr2 = cur_f.fit_transform(data_df.values,target_df.values)"
   ]
  },
  {
   "cell_type": "code",
   "execution_count": 8,
   "id": "7cd3e7d1-1480-42f9-992d-9930f76108f1",
   "metadata": {},
   "outputs": [
    {
     "name": "stdout",
     "output_type": "stream",
     "text": [
      "<class 'pandas.core.frame.DataFrame'>\n",
      "RangeIndex: 165 entries, 0 to 164\n",
      "Columns: 1024 entries, feature_0 to feature_1023\n",
      "dtypes: int64(1024)\n",
      "memory usage: 1.3 MB\n"
     ]
    }
   ],
   "source": [
    "data_df.info()"
   ]
  },
  {
   "cell_type": "code",
   "execution_count": 13,
   "id": "2d4ee91d-23dd-4228-bb7b-a162d881d713",
   "metadata": {},
   "outputs": [
    {
     "data": {
      "text/plain": [
       "(1024,)"
      ]
     },
     "execution_count": 13,
     "metadata": {},
     "output_type": "execute_result"
    }
   ],
   "source": [
    "ret_arr2.shape"
   ]
  },
  {
   "cell_type": "code",
   "execution_count": 22,
   "id": "ce42d567-bbe1-4c5e-9144-1738ce7a1a38",
   "metadata": {},
   "outputs": [],
   "source": [
    "# ret_arr[ret_arr<np.median(ret_arr)]=0"
   ]
  },
  {
   "cell_type": "code",
   "execution_count": 12,
   "id": "60998300-ec95-4fde-aa0c-b13a4e1a3527",
   "metadata": {},
   "outputs": [],
   "source": [
    "# data_df = pd.DataFrame(data=data.data,columns=data.feature_names)\n",
    "# y_df = pd.Series(data=data.target,name='target')"
   ]
  },
  {
   "cell_type": "code",
   "execution_count": 10,
   "id": "fc55cdfb-b807-401d-8517-6d852c7a5bf5",
   "metadata": {},
   "outputs": [
    {
     "data": {
      "text/plain": [
       "array([-9999999,     -340, -9999999,     -409,     -122,     -225,\n",
       "       -9999999, -9999999, -9999999,     -494, -9999999,      -52,\n",
       "           -106, -9999999,     -415,     -332, -9999999, -9999999,\n",
       "       -9999999, -9999999,      -23, -9999999,     -231,     -423,\n",
       "           -381,     -248, -9999999, -9999999,     -306,     -152,\n",
       "           -424,     -276,     -345,     -305, -9999999,     -205,\n",
       "           -449,     -444,      -90,     -456,     -258, -9999999,\n",
       "           -338, -9999999, -9999999, -9999999,     -475, -9999999,\n",
       "       -9999999,     -329])"
      ]
     },
     "execution_count": 10,
     "metadata": {},
     "output_type": "execute_result"
    }
   ],
   "source": [
    "ret_arr2[:50]"
   ]
  },
  {
   "cell_type": "code",
   "execution_count": 23,
   "id": "f827c7fd-686a-41ef-8406-054e8cd3e3a7",
   "metadata": {},
   "outputs": [
    {
     "data": {
      "text/plain": [
       "array([ 878, 1015, 1022,  985,    0,    0,  987,  990,    0,  858,  887,\n",
       "          0,    0,    0,  855,  872,  983,    0,    0,  782,  947,  882,\n",
       "          0,  988,    0,  783,  832,    0,    0,    0,    0,    0,  885,\n",
       "          0,  922,    0,  939,    0,    0,    0,  787,    0,    0,    0,\n",
       "        914, 1020,    0,    0,    0,    0,    0,  877,    0,  940,    0,\n",
       "        895,    0,  768,  897,    0,    0,    0,    0,  796,  862,    0,\n",
       "        904,    0,  892,    0,  820,  781,    0,    0,    0,    0,    0,\n",
       "        907,    0,  871,    0,    0,  825,    0,    0,    0,    0, 1021,\n",
       "          0,    0,    0,    0, 1011,  889,  879,  950,  910,    0,    0,\n",
       "        927,    0,  980, 1008,    0,    0,  921,    0,  890,  808,    0,\n",
       "          0,    0,  852,    0,    0,    0,    0,    0,    0,    0,  986,\n",
       "        894,    0,    0,  773,    0,  771,    0,  860,  849,    0,    0,\n",
       "        798,    0,  835,  976,    0,  818,    0,  780,    0,    0,  830,\n",
       "          0,  934,  840,    0,    0,    0,    0,    0,  972,  958,    0,\n",
       "        956,  957,  977,    0,  911,    0,  842,    0,    0, 1018,  826,\n",
       "        824,    0,    0,    0,  886,    0,    0,    0, 1009,    0,    0,\n",
       "          0,  823,  865,    0,  792,  837,    0,  814,    0,  896,    0,\n",
       "          0,    0,    0,  917,    0,    0,  836,  888,    0,    0,    0,\n",
       "          0,  776,  959,    0,  821,    0,    0,    0,  923,    0,    0,\n",
       "          0,    0,  807,    0,  854,    0,  805,  953,    0,  949,  924,\n",
       "          0,    0,  919,    0,  809,    0,    0,    0,    0,    0,    0,\n",
       "        954,    0,    0,  845,    0,  933,  846,  777,    0,  978,    0,\n",
       "        785,    0,  955,    0,    0,    0,    0,  806,  905,    0,    0,\n",
       "        915,  779,    0,    0,    0,    0,    0,  775,  784,    0,    0,\n",
       "        920,    0,  850,  838, 1000,    0,  971,  804,    0,  834,    0,\n",
       "          0,  791,    0,  815,  944,    0,  863,  992,    0,    0, 1005,\n",
       "          0,  843,  945,    0,  831,  901,    0,    0,  813,  864,    0,\n",
       "          0,    0,    0, 1006,    0,  822,  982,    0,    0,  800,  899,\n",
       "        967,  859,    0,  968,    0,  788,    0,  952,  786,    0,    0,\n",
       "          0,  772,  902,    0,  875,    0,  851,  778,    0,    0,    0,\n",
       "        869,    0,  861,    0,    0,  789,    0,  799,    0,    0,    0,\n",
       "          0,  795,  839,  893,  913, 1001,  810,  848,    0,  829,    0,\n",
       "        841, 1010,    0,    0,  811,  948,    0,  794,    0, 1016,    0,\n",
       "          0,  844,    0,  790,    0,    0,    0,  906,    0,  770,  960,\n",
       "       1002,  912,  828,  819,    0,  812,  937,    0, 1007,    0,    0,\n",
       "          0,  943,  833,    0,    0,    0,  989,    0,  928,  847,  969,\n",
       "          0,  797,  883,  966,  970, 1004,    0,  909,    0,  857,    0,\n",
       "        973,  874,    0,  868,  932,    0,  991,    0,    0,    0,  817,\n",
       "        935,  903,  856,  774,    0,    0,    0,  961,    0,  942,    0,\n",
       "          0,    0,  926,  867,    0,    0,    0,  880,    0,    0,    0,\n",
       "        963, 1014,  962,  998,  964,    0,    0,  898,  975,  951,  941,\n",
       "        984,    0,  816,    0,  936,  938,  891,    0, 1019,  866,  853,\n",
       "        979,    0,    0,    0,  999,  974,  930,  946,    0,  925,  929,\n",
       "          0,    0,  873,    0,  996,    0,  993,  881,    0,  916,  900,\n",
       "       1023,  884, 1013,    0, 1003,    0,  801,  994,  981,  827,    0,\n",
       "        965,  769,  995, 1012, 1017,    0,    0,  931,  870,  793,  908,\n",
       "        918,  876,    0,  997,  802,  803])"
      ]
     },
     "execution_count": 23,
     "metadata": {},
     "output_type": "execute_result"
    }
   ],
   "source": [
    "ret_arr"
   ]
  },
  {
   "cell_type": "code",
   "execution_count": 13,
   "id": "9842773c-e54c-4c8e-8481-4d0ecdccdc48",
   "metadata": {},
   "outputs": [
    {
     "data": {
      "text/plain": [
       "array(['petal width (cm)', 'petal length (cm)'], dtype=object)"
      ]
     },
     "execution_count": 13,
     "metadata": {},
     "output_type": "execute_result"
    }
   ],
   "source": [
    "cur_f.fit_transform_df(data_df,y_df)"
   ]
  }
 ],
 "metadata": {
  "kernelspec": {
   "display_name": "eeg",
   "language": "python",
   "name": "eeg"
  },
  "language_info": {
   "codemirror_mode": {
    "name": "ipython",
    "version": 3
   },
   "file_extension": ".py",
   "mimetype": "text/x-python",
   "name": "python",
   "nbconvert_exporter": "python",
   "pygments_lexer": "ipython3",
   "version": "3.9.1"
  }
 },
 "nbformat": 4,
 "nbformat_minor": 5
}
