{
 "cells": [
  {
   "cell_type": "code",
   "execution_count": 1,
   "metadata": {},
   "outputs": [],
   "source": [
    "import scipy.io\n",
    "import pandas as pd\n",
    "from sklearn.ensemble import RandomForestClassifier\n",
    "from sklearn.model_selection import train_test_split\n",
    "from sklearn.metrics import accuracy_score\n",
    "from tqdm import tqdm\n",
    "import glob\n",
    "import os\n",
    "import numpy as np\n",
    "from datetime import datetime\n",
    "from matplotlib import pyplot as plt\n",
    "from math import log\n",
    "from joblib import Parallel, delayed\n",
    "import multiprocessing\n",
    "\n",
    "from skfeature.function.similarity_based import reliefF\n",
    "from skfeature.utility.mutual_information import su_calculation"
   ]
  },
  {
   "cell_type": "code",
   "execution_count": 2,
   "metadata": {},
   "outputs": [],
   "source": [
    "# csv = 'data/ARFF/CNS.csv'\n",
    "csv = '../data/microarrays/data_toy_example/SPECTF_train.csv'\n",
    "\n",
    "df = pd.read_csv(csv)\n",
    "train_df, test_df = train_test_split(df, test_size=0.2, stratify=df['target'])\n",
    "\n",
    "X_train = train_df[list(set(train_df.columns) - set(['target']))].to_numpy()\n",
    "y_train = train_df[['target']].to_numpy().squeeze()\n",
    "\n",
    "X_test = test_df[list(set(test_df.columns) - set(['target']))].to_numpy()\n",
    "y_test = test_df[['target']].to_numpy().squeeze()"
   ]
  },
  {
   "cell_type": "markdown",
   "metadata": {},
   "source": [
    "# INTERACT\n",
    "https://www.public.asu.edu/~huanliu/papers/ijcai07.pdf"
   ]
  },
  {
   "cell_type": "code",
   "execution_count": 3,
   "metadata": {},
   "outputs": [],
   "source": [
    "def interact(x, y,beta=1.):\n",
    "    features = x\n",
    "    classes = y\n",
    "    scores = [su_calculation(features[:, feature_i], classes) for feature_i in range(features.shape[1])]\n",
    "    \n",
    "    for i in range(features.shape[1]):\n",
    "        if i/features.shape[1] > beta:\n",
    "            scores[i] = 1\n",
    "    \n",
    "    scores = np.array(scores)\n",
    "    return scores"
   ]
  },
  {
   "cell_type": "markdown",
   "metadata": {},
   "source": [
    "# Information Gain\n",
    "https://github.com/Edouard360/python-ml/blob/master/5/infogain.py"
   ]
  },
  {
   "cell_type": "code",
   "execution_count": 4,
   "metadata": {},
   "outputs": [],
   "source": [
    "def entropy(z):\n",
    "    cl = np.unique(z)\n",
    "    hz = 0\n",
    "    for i in range(len(cl)):\n",
    "        c = cl[i]\n",
    "        pz = float(sum(z == c)) / len(z)\n",
    "        hz = hz + pz * log(pz, 2)\n",
    "    hz = -hz\n",
    "    return hz\n",
    "\n",
    "\n",
    "def infogain(x, y,beta=1.):\n",
    "    '''\n",
    "        x: features (data)\n",
    "        y: output (classes)\n",
    "    '''\n",
    "    info_gains_par = np.ones(x.shape[1]) # features of x\n",
    "    info_gains = np.ones(x.shape[1]) # features of x\n",
    "    nrows = x.shape[0]\n",
    "    # calculate entropy of the data *hy* with regards to class y\n",
    "\n",
    "    hy = entropy(y)\n",
    "    info_gains *= hy\n",
    "\n",
    "    # ====================== Non-Parallel ================================\n",
    "\n",
    "#     for i in tqdm(range(len(info_gains))):\n",
    "#         xi_unique = np.unique(x[:, i])\n",
    "#         #xi_unique = unique(array(x[:,i])[:,0])\n",
    "#         for j in range(len(xi_unique)):\n",
    "#             indexi = (xi_unique[j] == x[:, i])\n",
    "#             #indexi = (xi_unique[j] == array(x[:,i])[:,0])\n",
    "#             info_gains[i] -= entropy(y[indexi])*(sum(indexi)/nrows)\n",
    "\n",
    "    # ======================   Parallel   ================================\n",
    "    def calc_entropy_for_col(i):\n",
    "        entropy_sum = 0\n",
    "        xi_unique = np.unique(x[:, i])\n",
    "        for j in range(len(xi_unique)):\n",
    "            indexi = (xi_unique[j] == x[:, i])\n",
    "            entropy_sum += entropy(y[indexi])*(sum(indexi)/nrows)\n",
    "        return entropy_sum\n",
    "    entropy_sum = Parallel(n_jobs=6)(delayed(calc_entropy_for_col)(i) for i in range(len(info_gains)))\n",
    "    \n",
    "    info_gains = info_gains - np.array(entropy_sum)\n",
    "    \n",
    "    # ======================         ================================\n",
    "    \n",
    "    for i in range(x.shape[1]):\n",
    "        if i/x.shape[1] > beta:\n",
    "            info_gains[i] = 1\n",
    "    \n",
    "    return info_gains"
   ]
  },
  {
   "cell_type": "markdown",
   "metadata": {},
   "source": [
    "# ReliefF"
   ]
  },
  {
   "cell_type": "markdown",
   "metadata": {},
   "source": [
    "https://epistasislab.github.io/scikit-rebate/using/"
   ]
  },
  {
   "cell_type": "code",
   "execution_count": 5,
   "metadata": {},
   "outputs": [],
   "source": [
    "def relieff(x, y,beta=1.):\n",
    "    reliefF_ranking = reliefF.reliefF(x, y)\n",
    "    reliefF_scores = reliefF_ranking / len(reliefF_ranking)\n",
    "    \n",
    "    for i in range(x.shape[1]):\n",
    "        if i/x.shape[1] > beta:\n",
    "            reliefF_scores[i] = 1\n",
    "    \n",
    "    return reliefF_scores"
   ]
  },
  {
   "cell_type": "markdown",
   "metadata": {},
   "source": [
    "# Ensemble of Filters"
   ]
  },
  {
   "cell_type": "code",
   "execution_count": 6,
   "metadata": {},
   "outputs": [],
   "source": [
    "def ensemble_of_filters(x, y,beta=1.):\n",
    "    infogain_scores = infogain(x, y,beta)\n",
    "    interact_scores = interact(x, y,beta)\n",
    "    reliefF_scores = relieff(x, y,beta)\n",
    "    \n",
    "    ensemble = (infogain_scores + interact_scores + reliefF_scores) / 3\n",
    "    \n",
    "    return ensemble"
   ]
  },
  {
   "cell_type": "code",
   "execution_count": 7,
   "metadata": {},
   "outputs": [
    {
     "data": {
      "image/png": "[encoded data removed]",
      "text/plain": [
       "<Figure size 1440x720 with 6 Axes>"
      ]
     },
     "metadata": {
      "needs_background": "light"
     },
     "output_type": "display_data"
    }
   ],
   "source": [
    "rows, cols = 2, 3\n",
    "fig, axs = plt.subplots(rows, cols, figsize=(20,10))\n",
    "\n",
    "for i in range(cols*rows):\n",
    "    r = i // cols\n",
    "    c = i %  cols\n",
    "    beta = (i+1) / (cols*rows)\n",
    "    plt.ylim(0, 1)\n",
    "    axs[r,c].set_xticks(list(range(0,44,10)))\n",
    "    axs[r,c].set_title(f'beta = {str(beta)[0:5]}')\n",
    "    axs[r,c].bar([str(i) for i in range(44)], ensemble_of_filters(X_train, y_train, beta=beta))"
   ]
  }
 ],
 "metadata": {
  "kernelspec": {
   "display_name": "Python 3 (ipykernel)",
   "language": "python",
   "name": "python3"
  },
  "language_info": {
   "codemirror_mode": {
    "name": "ipython",
    "version": 3
   },
   "file_extension": ".py",
   "mimetype": "text/x-python",
   "name": "python",
   "nbconvert_exporter": "python",
   "pygments_lexer": "ipython3",
   "version": "3.7.11"
  }
 },
 "nbformat": 4,
 "nbformat_minor": 4
}
