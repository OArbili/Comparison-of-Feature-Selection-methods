{
 "cells": [
  {
   "cell_type": "code",
   "execution_count": 1,
   "id": "2316f38c-d218-41ad-a60d-c612a2f08949",
   "metadata": {},
   "outputs": [
    {
     "name": "stdout",
     "output_type": "stream",
     "text": [
      "/sise/liorrk-group/OrDanOfir/git_clone_lior.exp.4/project/Comparison-of-Feature-Selection-methods\n",
      "start\n"
     ]
    }
   ],
   "source": [
    "import os\n",
    "import sys\n",
    "%cd ..\n",
    "from tqdm.auto import tqdm\n",
    "from utils import get_data,ColumnsPreprocessing,get_specific_df,ColumnsTrainKfold,seedEverything,grid_parameters_name,grid_parameters,TrainOneFold,get_cv_split\n",
    "from sklearn.model_selection import GridSearchCV\n",
    "from stg_fs import get_stg_class,get_SelectFdr_class,get_mrmr_class,get_reliefF_class,get_RFE_SVM_class,get_FWDT_class,get_ensemble_class, get_ensemble_class_new ,get_stg_class_new,get_FWDT_class_new\n",
    "from sklearn.feature_selection import SelectKBest\n",
    "from sklearn.pipeline import Pipeline\n",
    "import numpy as np\n",
    "import time\n",
    "import pandas as pd\n",
    "from matplotlib import pyplot as plt\n",
    "from IPython.display import clear_output\n",
    "from joblib import Parallel, delayed\n",
    "import pickle\n",
    "from calculate_metric_score import get_score\n",
    "from tqdm import tqdm\n",
    "from sklearn.neighbors import KNeighborsClassifier\n",
    "from main_kfold import *"
   ]
  },
  {
   "cell_type": "code",
   "execution_count": 2,
   "id": "595c875c-d4d9-4e93-a20b-90e6d53eaafe",
   "metadata": {},
   "outputs": [],
   "source": [
    "datsets_num = -1\n",
    "Filtering_Algorithm = 'f_classif'\n",
    "os.makedirs(f\"temp/{Filtering_Algorithm}/\",exist_ok=True)\n",
    "df,name = pd.read_csv('data/microarrays/data_toy_example//SPECTF_train.csv'),'toy_example'\n",
    "PP = ColumnsPreprocessing(columns=name)\n",
    "get_stg_fun = Filtering[Filtering_Algorithm](datasets=name,out_path=f'temp/{Filtering_Algorithm}')"
   ]
  },
  {
   "cell_type": "markdown",
   "id": "2b444498-c07f-4607-84f1-4e2d780fcca1",
   "metadata": {},
   "source": [
    "## Run train pipeline with sklean Fit Pipeline - No split (checking that everything works)"
   ]
  },
  {
   "cell_type": "code",
   "execution_count": 3,
   "id": "58237290-bdc6-45cf-b149-be8cb1ace3b9",
   "metadata": {},
   "outputs": [
    {
     "data": {
      "text/plain": [
       "{'MCC': 0.6855795667606844,\n",
       " 'ACC': 0.8375,\n",
       " 'AUC': 0.9271874999999999,\n",
       " 'PR-AUC': 0.9146969696969697}"
      ]
     },
     "execution_count": 3,
     "metadata": {},
     "output_type": "execute_result"
    }
   ],
   "source": [
    "train_features,y = PP.transform(df)\n",
    "Filtering_Algorithm = 'f_classif'\n",
    "estimators = [(\"Filtering\",SelectKBest(get_stg_fun,k=10)), ('clf', KNeighborsClassifier())]\n",
    "pipe = Pipeline(estimators)\n",
    "pipe.fit(train_features,y)\n",
    "pred = pipe.predict_proba(train_features)\n",
    "get_score(y,pred)"
   ]
  },
  {
   "cell_type": "markdown",
   "id": "19da75f1-182f-4d8d-8ea0-9c5f21822002",
   "metadata": {},
   "source": [
    "# Use GridSearchCV to find best param"
   ]
  },
  {
   "cell_type": "code",
   "execution_count": 4,
   "id": "41cffe40-5032-4a92-aac4-4232e543b963",
   "metadata": {},
   "outputs": [
    {
     "data": {
      "text/plain": [
       "{'algorithm': 'auto', 'n_neighbors': 10, 'weights': 'distance'}"
      ]
     },
     "execution_count": 4,
     "metadata": {},
     "output_type": "execute_result"
    }
   ],
   "source": [
    "grid_parameters ={\n",
    "                'clf__n_neighbors': [2,5,10],\n",
    "                'clf__algorithm': ['auto'],\n",
    "                'clf__weights': ['uniform', 'distance']\n",
    "            }\n",
    "grid = GridSearchCV(pipe, param_grid=grid_parameters, cv=5)\n",
    "_ = grid.fit(train_features,y)\n",
    "best_params = {}\n",
    "for row in grid.best_params_:\n",
    "    best_params[row.split(\"__\")[-1]] = grid.best_params_[row]\n",
    "best_params"
   ]
  },
  {
   "cell_type": "markdown",
   "id": "af440118-ff76-4492-a711-3ae6df941734",
   "metadata": {},
   "source": [
    "# Train K-fold with best param"
   ]
  },
  {
   "cell_type": "code",
   "execution_count": 5,
   "id": "4cdec5c3-b691-41c5-bc7a-cb38239d1019",
   "metadata": {},
   "outputs": [
    {
     "data": {
      "application/vnd.jupyter.widget-view+json": {
       "model_id": "7a3575a478114020a6dfe951d3cd99f7",
       "version_major": 2,
       "version_minor": 0
      },
      "text/plain": [
       "  0%|          | 0/5 [00:00<?, ?it/s]"
      ]
     },
     "metadata": {},
     "output_type": "display_data"
    },
    {
     "data": {
      "text/plain": [
       "{0: {'MCC': 0.40451991747794525,\n",
       "  'ACC': 0.6875,\n",
       "  'AUC': 0.71875,\n",
       "  'PR-AUC': 0.8018127705627706},\n",
       " 1: {'MCC': 0.7745966692414834,\n",
       "  'ACC': 0.875,\n",
       "  'AUC': 0.984375,\n",
       "  'PR-AUC': 0.9861111111111112},\n",
       " 2: {'MCC': 0.674199862463242,\n",
       "  'ACC': 0.8125,\n",
       "  'AUC': 0.859375,\n",
       "  'PR-AUC': 0.9081845238095239},\n",
       " 3: {'MCC': 0.629940788348712,\n",
       "  'ACC': 0.8125,\n",
       "  'AUC': 0.90625,\n",
       "  'PR-AUC': 0.8956845238095239},\n",
       " 4: {'MCC': 0.48038446141526137,\n",
       "  'ACC': 0.6875,\n",
       "  'AUC': 0.90625,\n",
       "  'PR-AUC': 0.9464285714285714},\n",
       " 'cv_score': {'MCC': 0.5871365639519862,\n",
       "  'ACC': 0.775,\n",
       "  'AUC': 0.843125,\n",
       "  'PR-AUC': 0.8689191942849488}}"
      ]
     },
     "execution_count": 5,
     "metadata": {},
     "output_type": "execute_result"
    }
   ],
   "source": [
    "df,name = get_specific_df(datsets_num)\n",
    "skf,n_splits,name_cv = get_cv_split(df)\n",
    "train_features,y = PP.transform(df)\n",
    "score_dict = {}\n",
    "all_pred = []\n",
    "all_val = []\n",
    "run_only_cv = False if \"Folds\" in name_cv else True\n",
    "split_fun = skf.split(train_features, y) if \"Folds\" in name_cv else skf.split(train_features)\n",
    "train_features = train_features.values\n",
    "for fold,(train_index, test_index) in enumerate(tqdm(split_fun,total=n_splits)):\n",
    "    if not run_only_cv:\n",
    "        get_stg_fun = Filtering[Filtering_Algorithm](datasets=name,out_path=f'temp/{Filtering_Algorithm}')\n",
    "    estimators = [(\"Filtering\",SelectKBest(get_stg_fun,k=10)), ('clf', KNeighborsClassifier(**best_params))]\n",
    "    pipe = Pipeline(estimators)\n",
    "    X_train, X_test = train_features[train_index].copy(), train_features[test_index].copy()\n",
    "    y_train, y_test = y[train_index].copy(), y[test_index].copy()\n",
    "    pipe.fit(X_train,y_train)\n",
    "    pred = pipe.predict_proba(X_test)\n",
    "    if not run_only_cv:\n",
    "        score_dict[fold] = get_score(y_test,pred)\n",
    "    all_pred.append(pred)\n",
    "    all_val.append(y_test)\n",
    "all_pred = np.concatenate(all_pred)\n",
    "all_val = np.concatenate(all_val)\n",
    "score_dict['cv_score'] = get_score(all_val,all_pred)\n",
    "score_dict"
   ]
  },
  {
   "cell_type": "code",
   "execution_count": 6,
   "id": "ede44165-01e2-4c78-83e3-057f778dba32",
   "metadata": {},
   "outputs": [
    {
     "name": "stdout",
     "output_type": "stream",
     "text": [
      "(44,)\n",
      "ensemble\n",
      "{'MCC': 0.6532745799184878, 'ACC': 0.825, 'AUC': 0.889375, 'PR-AUC': 0.8660756996862673}\n",
      "**********\n",
      "STG\n",
      "{'MCC': 0.6532745799184878, 'ACC': 0.825, 'AUC': 0.910625, 'PR-AUC': 0.8862217741054058}\n",
      "**********\n",
      "(44,)\n",
      "FWDT\n",
      "{'MCC': 0.47634160003570514, 'ACC': 0.7375, 'AUC': 0.82875, 'PR-AUC': 0.790914757580355}\n",
      "**********\n",
      "(44,)\n",
      "ensemble\n",
      "{'MCC': 0.6, 'ACC': 0.8, 'AUC': 0.845, 'PR-AUC': 0.8156146304675717}\n",
      "**********\n",
      "STG\n",
      "{'MCC': 0.6769064842612652, 'ACC': 0.8375, 'AUC': 0.8775, 'PR-AUC': 0.8332017162044523}\n",
      "**********\n",
      "(44,)\n",
      "FWDT\n",
      "{'MCC': 0.6267652632048752, 'ACC': 0.8125, 'AUC': 0.8681249999999999, 'PR-AUC': 0.8381385146563713}\n",
      "**********\n",
      "(44,)\n",
      "ensemble\n",
      "{'MCC': 0.47634160003570514, 'ACC': 0.7375, 'AUC': 0.7946875, 'PR-AUC': 0.7317475771882136}\n",
      "**********\n",
      "STG\n",
      "{'MCC': 0.4875001055012461, 'ACC': 0.7375, 'AUC': 0.8153125, 'PR-AUC': 0.7728517722878626}\n",
      "**********\n",
      "(44,)\n",
      "FWDT\n",
      "{'MCC': 0.4787549991450211, 'ACC': 0.7375, 'AUC': 0.8328125000000001, 'PR-AUC': 0.8186266896750072}\n",
      "**********\n"
     ]
    },
    {
     "data": {
      "image/png": "[encoded data removed]",
      "text/plain": [
       "<Figure size 1440x720 with 3 Axes>"
      ]
     },
     "metadata": {
      "needs_background": "light"
     },
     "output_type": "display_data"
    },
    {
     "data": {
      "image/png": "[encoded data removed]",
      "text/plain": [
       "<Figure size 1440x720 with 3 Axes>"
      ]
     },
     "metadata": {
      "needs_background": "light"
     },
     "output_type": "display_data"
    },
    {
     "data": {
      "image/png": "[encoded data removed]",
      "text/plain": [
       "<Figure size 1440x720 with 3 Axes>"
      ]
     },
     "metadata": {
      "needs_background": "light"
     },
     "output_type": "display_data"
    }
   ],
   "source": [
    "row=0\n",
    "for seed in [5,10,20]:\n",
    "    plt.figure(figsize=[20,10])\n",
    "    for Filtering_Algorithm in ['ensemble','STG','FWDT']:#,'STG']:\n",
    "        k = seed\n",
    "        seedEverything(seed)\n",
    "        get_stg_fun = Filtering[Filtering_Algorithm](datasets=name,out_path=f'temp/{Filtering_Algorithm}')\n",
    "        score_gates = get_stg_fun(train_features,y.values)\n",
    "        topk = score_gates.argsort()[::-1][0:k]\n",
    "        col_name = np.array(df.drop('target',axis=1).columns)[topk]\n",
    "        score_gates = score_gates[topk] \n",
    "        plt.subplot(3,3,row+1)\n",
    "        plt.bar(col_name,score_gates)\n",
    "        plt.xticks(rotation=90)\n",
    "        plt.title(f\"Algorithm - {Filtering_Algorithm}, seed - {seed}\")\n",
    "        estimators = [(\"Filtering\",SelectKBest(get_stg_fun,k=k)), ('clf', KNeighborsClassifier())]\n",
    "        pipe = Pipeline(estimators)\n",
    "        pipe.fit(train_features,y)\n",
    "        pred = pipe.predict_proba(train_features)\n",
    "        print(Filtering_Algorithm)\n",
    "        print(get_score(y,pred))\n",
    "        print('*'*10)\n",
    "        row+=1"
   ]
  }
 ],
 "metadata": {
  "kernelspec": {
   "display_name": "Python 3",
   "language": "python",
   "name": "python3"
  },
  "language_info": {
   "codemirror_mode": {
    "name": "ipython",
    "version": 3
   },
   "file_extension": ".py",
   "mimetype": "text/x-python",
   "name": "python",
   "nbconvert_exporter": "python",
   "pygments_lexer": "ipython3",
   "version": "3.7.11"
  }
 },
 "nbformat": 4,
 "nbformat_minor": 5
}
